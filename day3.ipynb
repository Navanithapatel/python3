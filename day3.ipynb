{
 "cells": [
  {
   "cell_type": "code",
   "execution_count": 1,
   "id": "87c3fd94-3475-488a-a116-9ec9c3797d9d",
   "metadata": {},
   "outputs": [
    {
     "data": {
      "text/plain": [
       "(12, 13, 24, 56, 78, 79, 89, 76, 56, 45, 24, 90)"
      ]
     },
     "execution_count": 1,
     "metadata": {},
     "output_type": "execute_result"
    }
   ],
   "source": [
    "#tuple\n",
    "#index\n",
    "#count\n",
    "#type\n",
    "#slicing\n",
    "x=(12,13,24,56,78,79,89,76,56,45,24,90)\n",
    "x"
   ]
  },
  {
   "cell_type": "code",
   "execution_count": 11,
   "id": "9b562d99-1462-47ed-aab5-c4dfe6018dec",
   "metadata": {},
   "outputs": [
    {
     "data": {
      "text/plain": [
       "7"
      ]
     },
     "execution_count": 11,
     "metadata": {},
     "output_type": "execute_result"
    }
   ],
   "source": [
    "x.index(76)"
   ]
  },
  {
   "cell_type": "code",
   "execution_count": 15,
   "id": "ad7571c5-d95d-4457-8dd6-f074ecacd046",
   "metadata": {},
   "outputs": [
    {
     "data": {
      "text/plain": [
       "tuple"
      ]
     },
     "execution_count": 15,
     "metadata": {},
     "output_type": "execute_result"
    }
   ],
   "source": [
    "type(x)"
   ]
  },
  {
   "cell_type": "code",
   "execution_count": 17,
   "id": "0d92f58c-dae8-4af5-bfdc-b5be5632da06",
   "metadata": {},
   "outputs": [
    {
     "data": {
      "text/plain": [
       "1"
      ]
     },
     "execution_count": 17,
     "metadata": {},
     "output_type": "execute_result"
    }
   ],
   "source": [
    "x.count(76)"
   ]
  },
  {
   "cell_type": "code",
   "execution_count": 21,
   "id": "f3f3a9f9-bb6f-4475-9608-3008ffb2b38f",
   "metadata": {},
   "outputs": [
    {
     "data": {
      "text/plain": [
       "4"
      ]
     },
     "execution_count": 21,
     "metadata": {},
     "output_type": "execute_result"
    }
   ],
   "source": [
    "x.index(78)"
   ]
  },
  {
   "cell_type": "code",
   "execution_count": 23,
   "id": "94ffe5aa-02a1-435b-9fe2-8564ed34655e",
   "metadata": {},
   "outputs": [
    {
     "data": {
      "text/plain": [
       "(12, 13, 24)"
      ]
     },
     "execution_count": 23,
     "metadata": {},
     "output_type": "execute_result"
    }
   ],
   "source": [
    "x[0:3]"
   ]
  },
  {
   "cell_type": "markdown",
   "id": "a193862e-cd34-4bdf-986f-f983be12142a",
   "metadata": {},
   "source": [
    "#set\n",
    "#intersection\n",
    "#union\n",
    "#difference\n",
    "#symmetric difference\n",
    "#add\n",
    "s={34,56,76,76,67,53,32,68,98}\n",
    "s"
   ]
  },
  {
   "cell_type": "code",
   "execution_count": 27,
   "id": "24a6bc9e-a5c4-41fa-8cff-883ec8c54083",
   "metadata": {},
   "outputs": [
    {
     "data": {
      "text/plain": [
       "set"
      ]
     },
     "execution_count": 27,
     "metadata": {},
     "output_type": "execute_result"
    }
   ],
   "source": [
    "type(s)"
   ]
  },
  {
   "cell_type": "code",
   "execution_count": 44,
   "id": "bd9f1589-fbb6-476c-9b9a-88dfb367ad91",
   "metadata": {},
   "outputs": [
    {
     "data": {
      "text/plain": [
       "{32, 34, 43, 45, 56, 65, 76}"
      ]
     },
     "execution_count": 44,
     "metadata": {},
     "output_type": "execute_result"
    }
   ],
   "source": [
    "y={32,45,65,43,56,34,76}\n",
    "y"
   ]
  },
  {
   "cell_type": "code",
   "execution_count": 48,
   "id": "8205714b-d648-41e4-b1f7-139ccf978abc",
   "metadata": {},
   "outputs": [
    {
     "data": {
      "text/plain": [
       "{32, 34, 56, 76}"
      ]
     },
     "execution_count": 48,
     "metadata": {},
     "output_type": "execute_result"
    }
   ],
   "source": [
    "s.intersection(y)"
   ]
  },
  {
   "cell_type": "code",
   "execution_count": 50,
   "id": "efdfe988-9a68-44fb-a047-e16d3dfc3f8d",
   "metadata": {},
   "outputs": [
    {
     "data": {
      "text/plain": [
       "{53, 67, 68}"
      ]
     },
     "execution_count": 50,
     "metadata": {},
     "output_type": "execute_result"
    }
   ],
   "source": [
    "s.difference(y)"
   ]
  },
  {
   "cell_type": "code",
   "execution_count": 52,
   "id": "7a076708-90a3-4ab9-80ce-65b72d9ebc5a",
   "metadata": {},
   "outputs": [
    {
     "data": {
      "text/plain": [
       "{32, 34, 43, 45, 53, 56, 65, 67, 68, 76}"
      ]
     },
     "execution_count": 52,
     "metadata": {},
     "output_type": "execute_result"
    }
   ],
   "source": [
    "s.union(y)"
   ]
  },
  {
   "cell_type": "code",
   "execution_count": 54,
   "id": "d3e9c590-0698-4832-bce6-ebc41def6bd4",
   "metadata": {},
   "outputs": [
    {
     "data": {
      "text/plain": [
       "{32, 34, 43, 45, 53, 56, 65, 67, 68, 76}"
      ]
     },
     "execution_count": 54,
     "metadata": {},
     "output_type": "execute_result"
    }
   ],
   "source": [
    "y.union(s)"
   ]
  },
  {
   "cell_type": "code",
   "execution_count": 56,
   "id": "bafa9722-3897-44b0-9337-f288ae3b9960",
   "metadata": {},
   "outputs": [
    {
     "data": {
      "text/plain": [
       "{32, 34, 56, 76}"
      ]
     },
     "execution_count": 56,
     "metadata": {},
     "output_type": "execute_result"
    }
   ],
   "source": [
    "y.intersection(s)"
   ]
  },
  {
   "cell_type": "code",
   "execution_count": 58,
   "id": "b28f97aa-736b-4112-8204-ee53ab4889ff",
   "metadata": {},
   "outputs": [
    {
     "data": {
      "text/plain": [
       "{43, 45, 65}"
      ]
     },
     "execution_count": 58,
     "metadata": {},
     "output_type": "execute_result"
    }
   ],
   "source": [
    "y.difference(s)"
   ]
  },
  {
   "cell_type": "code",
   "execution_count": 60,
   "id": "434b6e2d-0214-4b64-b933-082dd5476ebd",
   "metadata": {},
   "outputs": [
    {
     "data": {
      "text/plain": [
       "{43, 45, 53, 65, 67, 68}"
      ]
     },
     "execution_count": 60,
     "metadata": {},
     "output_type": "execute_result"
    }
   ],
   "source": [
    "s.symmetric_difference(y)"
   ]
  },
  {
   "cell_type": "code",
   "execution_count": 62,
   "id": "8f36a798-2b4d-4679-86cb-6bdb82969847",
   "metadata": {},
   "outputs": [
    {
     "data": {
      "text/plain": [
       "{32, 34, 53, 56, 67, 68, 76}"
      ]
     },
     "execution_count": 62,
     "metadata": {},
     "output_type": "execute_result"
    }
   ],
   "source": [
    "s"
   ]
  },
  {
   "cell_type": "code",
   "execution_count": 64,
   "id": "dbb4708c-9b12-4529-881d-b2967d89409b",
   "metadata": {},
   "outputs": [
    {
     "data": {
      "text/plain": [
       "{32, 34, 43, 45, 56, 65, 76}"
      ]
     },
     "execution_count": 64,
     "metadata": {},
     "output_type": "execute_result"
    }
   ],
   "source": [
    "y"
   ]
  },
  {
   "cell_type": "code",
   "execution_count": 68,
   "id": "eee5278f-bf07-4576-ac71-00dde09a0228",
   "metadata": {},
   "outputs": [
    {
     "data": {
      "text/plain": [
       "set"
      ]
     },
     "execution_count": 68,
     "metadata": {},
     "output_type": "execute_result"
    }
   ],
   "source": [
    "type(s)"
   ]
  },
  {
   "cell_type": "code",
   "execution_count": 72,
   "id": "39ed06e7-11a6-4b25-962c-9dbfe8ecbeee",
   "metadata": {},
   "outputs": [
    {
     "data": {
      "text/plain": [
       "(32, 34, 67, 68, 76, 53, 56)"
      ]
     },
     "execution_count": 72,
     "metadata": {},
     "output_type": "execute_result"
    }
   ],
   "source": [
    "#conerting set to tuplr\n",
    "tuple(s)"
   ]
  },
  {
   "cell_type": "code",
   "execution_count": 74,
   "id": "905bb615-f03b-44cf-b2f6-748e0aa84a74",
   "metadata": {},
   "outputs": [
    {
     "data": {
      "text/plain": [
       "[32, 34, 67, 68, 76, 53, 56]"
      ]
     },
     "execution_count": 74,
     "metadata": {},
     "output_type": "execute_result"
    }
   ],
   "source": [
    "#converting set to list\n",
    "list(s)"
   ]
  },
  {
   "cell_type": "code",
   "execution_count": 90,
   "id": "7e46c4cc-41bf-4ca1-acc6-9c6b7da7a94c",
   "metadata": {},
   "outputs": [
    {
     "data": {
      "text/plain": [
       "{32, 34, 53, 56, 67, 68, 76, 90, 97}"
      ]
     },
     "execution_count": 90,
     "metadata": {},
     "output_type": "execute_result"
    }
   ],
   "source": [
    "s.add(90)\n",
    "s"
   ]
  },
  {
   "cell_type": "code",
   "execution_count": null,
   "id": "26ec1266-0f55-40b9-b430-4e9b1b4ad463",
   "metadata": {},
   "outputs": [],
   "source": []
  }
 ],
 "metadata": {
  "kernelspec": {
   "display_name": "Python 3 (ipykernel)",
   "language": "python",
   "name": "python3"
  },
  "language_info": {
   "codemirror_mode": {
    "name": "ipython",
    "version": 3
   },
   "file_extension": ".py",
   "mimetype": "text/x-python",
   "name": "python",
   "nbconvert_exporter": "python",
   "pygments_lexer": "ipython3",
   "version": "3.12.4"
  }
 },
 "nbformat": 4,
 "nbformat_minor": 5
}
